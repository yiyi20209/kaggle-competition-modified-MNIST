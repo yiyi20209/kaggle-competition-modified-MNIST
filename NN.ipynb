{
 "cells": [
  {
   "cell_type": "code",
   "execution_count": 41,
   "metadata": {
    "_cell_guid": "b1076dfc-b9ad-4769-8c92-a6c4dae69d19",
    "_uuid": "8f2839f25d086af736a60e9eeb907d3b93b6e0e5",
    "execution": {
     "iopub.execute_input": "2022-10-28T04:18:10.915364Z",
     "iopub.status.busy": "2022-10-28T04:18:10.914534Z",
     "iopub.status.idle": "2022-10-28T04:18:10.927223Z",
     "shell.execute_reply": "2022-10-28T04:18:10.925840Z",
     "shell.execute_reply.started": "2022-10-28T04:18:10.915309Z"
    }
   },
   "outputs": [
    {
     "name": "stdout",
     "output_type": "stream",
     "text": [
      "/kaggle/input/classification-of-mnist-digits/train_result.csv\n",
      "/kaggle/input/classification-of-mnist-digits/train.csv\n",
      "/kaggle/input/classification-of-mnist-digits/test.csv\n"
     ]
    }
   ],
   "source": [
    "#MNIST pair of digits recognition using NN model\n",
    "#Yi Cong Li (20122756)\n",
    "#this code is built using inpirations from:\n",
    "#https://medium.com/@muhammetbolat/supervised-unsupervised-techniques-on-mnist-dataset-3f2ffd4c41c5\n",
    "#https://imbalanced-learn.org/stable/references/generated/imblearn.over_sampling.RandomOverSampler.html\n",
    "\n",
    "#please make sure to run this code in default kaggle notebook environnment of competition\n",
    "\n",
    "# This Python 3 environment comes with many helpful analytics libraries installed\n",
    "# It is defined by the kaggle/python Docker image: https://github.com/kaggle/docker-python\n",
    "# For example, here's several helpful packages to load\n",
    "import sklearn\n",
    "from sklearn.model_selection import train_test_split\n",
    "from imblearn.over_sampling import RandomOverSampler\n",
    "from tensorflow.keras.utils import to_categorical\n",
    "from tensorflow.keras.models import Sequential\n",
    "from tensorflow.keras.layers import Dense\n",
    "\n",
    "import numpy as np # linear algebra\n",
    "import pandas as pd # data processing, CSV file I/O (e.g. pd.read_csv)\n",
    "import seaborn as sns\n",
    "import collections\n",
    "import matplotlib.pyplot as plt\n",
    "\n",
    "# Input data files are available in the read-only \"../input/\" directory\n",
    "# For example, running this (by clicking run or pressing Shift+Enter) will list all files under the input directory\n",
    "\n",
    "import os\n",
    "for dirname, _, filenames in os.walk('/kaggle/input'):\n",
    "    for filename in filenames:\n",
    "        print(os.path.join(dirname, filename))\n",
    "\n",
    "# You can write up to 20GB to the current directory (/kaggle/working/) that gets preserved as output when you create a version using \"Save & Run All\" \n",
    "# You can also write temporary files to /kaggle/temp/, but they won't be saved outside of the current session"
   ]
  },
  {
   "cell_type": "code",
   "execution_count": 42,
   "metadata": {
    "execution": {
     "iopub.execute_input": "2022-10-28T04:18:10.929478Z",
     "iopub.status.busy": "2022-10-28T04:18:10.928699Z",
     "iopub.status.idle": "2022-10-28T04:18:26.178136Z",
     "shell.execute_reply": "2022-10-28T04:18:26.176896Z",
     "shell.execute_reply.started": "2022-10-28T04:18:10.929435Z"
    }
   },
   "outputs": [],
   "source": [
    "#loading train data\n",
    "train_data = '/kaggle/input/classification-of-mnist-digits/train.csv'\n",
    "df = pd.read_csv(train_data)\n",
    "df = df.drop(['Unnamed: 1568'], axis = 1)\n",
    "X_train = df.values\n",
    "\n",
    "#loading test data\n",
    "test_data = '/kaggle/input/classification-of-mnist-digits/test.csv'\n",
    "df_test = pd.read_csv(test_data)\n",
    "df_test = df_test.drop(['Unnamed: 1568'], axis = 1)\n",
    "test_features = df_test.values\n",
    "\n",
    "#loading train labels\n",
    "train_result_data = '/kaggle/input/classification-of-mnist-digits/train_result.csv'\n",
    "df_train_result = pd.read_csv(train_result_data)\n",
    "y_train = df_train_result['Class'].to_numpy()"
   ]
  },
  {
   "cell_type": "code",
   "execution_count": 43,
   "metadata": {
    "execution": {
     "iopub.execute_input": "2022-10-28T04:18:26.180592Z",
     "iopub.status.busy": "2022-10-28T04:18:26.180241Z",
     "iopub.status.idle": "2022-10-28T04:18:26.420602Z",
     "shell.execute_reply": "2022-10-28T04:18:26.419467Z",
     "shell.execute_reply.started": "2022-10-28T04:18:26.180561Z"
    }
   },
   "outputs": [
    {
     "name": "stderr",
     "output_type": "stream",
     "text": [
      "/opt/conda/lib/python3.7/site-packages/seaborn/_decorators.py:43: FutureWarning: Pass the following variables as keyword args: x, y. From version 0.12, the only valid positional argument will be `data`, and passing other arguments without an explicit keyword will result in an error or misinterpretation.\n",
      "  FutureWarning\n"
     ]
    },
    {
     "data": {
      "image/png": "[encoded data removed]",
      "text/plain": [
       "<Figure size 300x200 with 1 Axes>"
      ]
     },
     "metadata": {
      "needs_background": "light"
     },
     "output_type": "display_data"
    }
   ],
   "source": [
    "#We can see that data are unevenly distributed since sums in middle (e.g. 8,9,10, etc.) will have more combinations of 2 digits\n",
    "samples = collections.Counter(y_train)\n",
    "fig, ax = plt.subplots(1, 1, dpi=50)\n",
    "ax = sns.barplot(list(samples.keys()), list(samples.values()))\n",
    "ax.set_title(\"Data Distribution\")\n",
    "ax.set_xlabel('Numbers Sum')\n",
    "\n",
    "plt.show()\n"
   ]
  },
  {
   "cell_type": "code",
   "execution_count": 44,
   "metadata": {
    "execution": {
     "iopub.execute_input": "2022-10-28T04:18:26.422184Z",
     "iopub.status.busy": "2022-10-28T04:18:26.421857Z",
     "iopub.status.idle": "2022-10-28T04:18:27.935045Z",
     "shell.execute_reply": "2022-10-28T04:18:27.933891Z",
     "shell.execute_reply.started": "2022-10-28T04:18:26.422154Z"
    }
   },
   "outputs": [],
   "source": [
    "#Oversampling to fix the distribution issue\n",
    "oversample = RandomOverSampler(sampling_strategy='not majority')\n",
    "X_train, y_train = oversample.fit_resample(X_train, y_train)"
   ]
  },
  {
   "cell_type": "code",
   "execution_count": 45,
   "metadata": {
    "execution": {
     "iopub.execute_input": "2022-10-28T04:18:27.939410Z",
     "iopub.status.busy": "2022-10-28T04:18:27.938572Z",
     "iopub.status.idle": "2022-10-28T04:18:27.946850Z",
     "shell.execute_reply": "2022-10-28T04:18:27.945673Z",
     "shell.execute_reply.started": "2022-10-28T04:18:27.939360Z"
    }
   },
   "outputs": [],
   "source": [
    "#one hot encoding\n",
    "y_train = to_categorical(y_train)\n"
   ]
  },
  {
   "cell_type": "code",
   "execution_count": 46,
   "metadata": {
    "execution": {
     "iopub.execute_input": "2022-10-28T04:18:27.948939Z",
     "iopub.status.busy": "2022-10-28T04:18:27.948537Z",
     "iopub.status.idle": "2022-10-28T04:18:28.009597Z",
     "shell.execute_reply": "2022-10-28T04:18:28.008322Z",
     "shell.execute_reply.started": "2022-10-28T04:18:27.948904Z"
    }
   },
   "outputs": [],
   "source": [
    "model = Sequential()\n",
    "model.add(Dense(1024, input_dim=28*56, activation='relu'))\n",
    "model.add(Dense(512, activation='relu'))\n",
    "model.add(Dense(256, activation='relu'))\n",
    "model.add(Dense(19, activation='softmax'))"
   ]
  },
  {
   "cell_type": "code",
   "execution_count": 47,
   "metadata": {
    "execution": {
     "iopub.execute_input": "2022-10-28T04:18:28.011494Z",
     "iopub.status.busy": "2022-10-28T04:18:28.011118Z",
     "iopub.status.idle": "2022-10-28T04:20:51.804096Z",
     "shell.execute_reply": "2022-10-28T04:20:51.802061Z",
     "shell.execute_reply.started": "2022-10-28T04:18:28.011458Z"
    }
   },
   "outputs": [
    {
     "name": "stdout",
     "output_type": "stream",
     "text": [
      "Epoch 1/8\n",
      "1142/1142 [==============================] - 18s 16ms/step - loss: 0.8099 - accuracy: 0.7451 - val_loss: 0.6663 - val_accuracy: 0.7964\n",
      "Epoch 2/8\n",
      "1142/1142 [==============================] - 18s 16ms/step - loss: 0.2653 - accuracy: 0.9210 - val_loss: 0.2824 - val_accuracy: 0.9183\n",
      "Epoch 3/8\n",
      "1142/1142 [==============================] - 17s 15ms/step - loss: 0.1535 - accuracy: 0.9528 - val_loss: 0.1685 - val_accuracy: 0.9504\n",
      "Epoch 4/8\n",
      "1142/1142 [==============================] - 18s 16ms/step - loss: 0.1037 - accuracy: 0.9675 - val_loss: 0.1094 - val_accuracy: 0.9635\n",
      "Epoch 5/8\n",
      "1142/1142 [==============================] - 17s 15ms/step - loss: 0.0802 - accuracy: 0.9747 - val_loss: 0.0999 - val_accuracy: 0.9685\n",
      "Epoch 6/8\n",
      "1142/1142 [==============================] - 19s 16ms/step - loss: 0.0644 - accuracy: 0.9793 - val_loss: 0.1716 - val_accuracy: 0.9451\n",
      "Epoch 7/8\n",
      "1142/1142 [==============================] - 17s 15ms/step - loss: 0.0536 - accuracy: 0.9832 - val_loss: 0.0835 - val_accuracy: 0.9707\n",
      "Epoch 8/8\n",
      "1142/1142 [==============================] - 18s 16ms/step - loss: 0.0465 - accuracy: 0.9854 - val_loss: 0.0917 - val_accuracy: 0.9692\n",
      "CPU times: user 6min 17s, sys: 14.6 s, total: 6min 32s\n",
      "Wall time: 2min 23s\n"
     ]
    }
   ],
   "source": [
    "EPOCHS = 8\n",
    "BATCH_SIZE = 64\n",
    "model.compile('adam', loss='categorical_crossentropy', metrics=['accuracy'])\n",
    "%time history = model.fit(X_train, y_train, epochs=EPOCHS, batch_size=BATCH_SIZE, validation_split=0.2)\n",
    "\n",
    "plt.title('Epoch-Accuracy Graph')\n",
    "plt.xlabel = 'Epochs'\n",
    "plt.ylabel = 'Loss'\n",
    "plt.plot(range(1, len(history.epoch) + 1), history.history['accuracy'])\n",
    "plt.plot(range(1, len(history.epoch) + 1), history.history['val_accuracy'])\n",
    "plt.legend(['accuracy', 'val_accuracy'])\n",
    "plt.show()\n",
    "\n",
    "pred = model.predict(test_features)\n",
    "pred_class = np.argmax(pred, axis = 1)\n",
    "output = pd.DataFrame({'Index': np.arange(test_features.shape[0]), 'Class': pred_class})\n",
    "output.to_csv('submission.csv', index=False)"
   ]
  },
  {
   "cell_type": "code",
   "execution_count": 48,
   "metadata": {
    "execution": {
     "iopub.execute_input": "2022-10-28T04:20:51.806453Z",
     "iopub.status.busy": "2022-10-28T04:20:51.805518Z",
     "iopub.status.idle": "2022-10-28T04:20:51.972883Z",
     "shell.execute_reply": "2022-10-28T04:20:51.971450Z",
     "shell.execute_reply.started": "2022-10-28T04:20:51.806415Z"
    }
   },
   "outputs": [
    {
     "data": {
      "image/png": "[encoded data removed]",
      "text/plain": [
       "<Figure size 432x288 with 1 Axes>"
      ]
     },
     "metadata": {
      "needs_background": "light"
     },
     "output_type": "display_data"
    }
   ],
   "source": [
    "plt.title('Epoch-Accuracy Graph')\n",
    "plt.xlabel = 'Epochs'\n",
    "plt.ylabel = 'Loss'\n",
    "plt.plot(range(1, len(history.epoch) + 1), history.history['accuracy'])\n",
    "plt.plot(range(1, len(history.epoch) + 1), history.history['val_accuracy'])\n",
    "plt.legend(['accuracy', 'val_accuracy'])\n",
    "plt.show()"
   ]
  },
  {
   "cell_type": "code",
   "execution_count": 49,
   "metadata": {
    "execution": {
     "iopub.execute_input": "2022-10-28T04:20:51.975277Z",
     "iopub.status.busy": "2022-10-28T04:20:51.974761Z",
     "iopub.status.idle": "2022-10-28T04:20:53.161120Z",
     "shell.execute_reply": "2022-10-28T04:20:53.159741Z",
     "shell.execute_reply.started": "2022-10-28T04:20:51.975229Z"
    }
   },
   "outputs": [],
   "source": [
    "pred = model.predict(test_features)\n",
    "pred_class = np.argmax(pred, axis = 1)\n",
    "output = pd.DataFrame({'Index': np.arange(test_features.shape[0]), 'Class': pred_class})\n",
    "output.to_csv('submission.csv', index=False)"
   ]
  }
 ],
 "metadata": {
  "kernelspec": {
   "display_name": "Python 3 (ipykernel)",
   "language": "python",
   "name": "python3"
  },
  "language_info": {
   "codemirror_mode": {
    "name": "ipython",
    "version": 3
   },
   "file_extension": ".py",
   "mimetype": "text/x-python",
   "name": "python",
   "nbconvert_exporter": "python",
   "pygments_lexer": "ipython3",
   "version": "3.7.3"
  }
 },
 "nbformat": 4,
 "nbformat_minor": 4
}
