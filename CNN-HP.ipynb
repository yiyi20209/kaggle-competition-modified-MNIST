{
 "cells": [
  {
   "cell_type": "code",
   "execution_count": 18,
   "metadata": {
    "_cell_guid": "b1076dfc-b9ad-4769-8c92-a6c4dae69d19",
    "_uuid": "8f2839f25d086af736a60e9eeb907d3b93b6e0e5",
    "execution": {
     "iopub.execute_input": "2022-10-28T04:25:52.767197Z",
     "iopub.status.busy": "2022-10-28T04:25:52.766848Z",
     "iopub.status.idle": "2022-10-28T04:25:52.777829Z",
     "shell.execute_reply": "2022-10-28T04:25:52.776724Z",
     "shell.execute_reply.started": "2022-10-28T04:25:52.767167Z"
    }
   },
   "outputs": [
    {
     "name": "stdout",
     "output_type": "stream",
     "text": [
      "/kaggle/input/classification-of-mnist-digits/train_result.csv\n",
      "/kaggle/input/classification-of-mnist-digits/train.csv\n",
      "/kaggle/input/classification-of-mnist-digits/test.csv\n"
     ]
    }
   ],
   "source": [
    "#MNIST pair of digits recognition using CNN with simple hyperparameters tunning\n",
    "#Yi Cong Li (20122756)\n",
    "#this code is built using inpirations from:\n",
    "#https://medium.com/swlh/hyperparameter-tuning-in-keras-tensorflow-2-with-keras-tuner-randomsearch-hyperband-3e212647778f\n",
    "#https://www.tensorflow.org/tutorials/keras\n",
    "#https://medium.com/@muhammetbolat/supervised-unsupervised-techniques-on-mnist-dataset-3f2ffd4c41c5\n",
    "#https://imbalanced-learn.org/stable/references/generated/imblearn.over_sampling.RandomOverSampler.html\n",
    "\n",
    "#please make sure to run this code in default kaggle notebook environnment of competition, with Neural Network boosting GPU (ex. GPU T4 provided by Kaggle),\n",
    "#otherwise it may take longer than 2 hours to complete, since it includes a simple hyperparameter search\n",
    "\n",
    "# This Python 3 environment comes with many helpful analytics libraries installed\n",
    "# It is defined by the kaggle/python Docker image: https://github.com/kaggle/docker-python\n",
    "# For example, here's several helpful packages to load\n",
    "import sklearn\n",
    "from sklearn.metrics import confusion_matrix\n",
    "from imblearn.over_sampling import RandomOverSampler\n",
    "from tensorflow.keras.utils import to_categorical\n",
    "from tensorflow.keras.models import Sequential\n",
    "from tensorflow.keras.layers import Conv2D, Dense, MaxPooling2D, Flatten, BatchNormalization, Dropout\n",
    "from tensorflow.keras.optimizers import Adam\n",
    "import keras_tuner\n",
    "from keras_tuner.tuners import BayesianOptimization\n",
    "\n",
    "import numpy as np # linear algebra\n",
    "import pandas as pd # data processing, CSV file I/O (e.g. pd.read_csv)\n",
    "import seaborn as sns\n",
    "import collections\n",
    "import matplotlib.pyplot as plt\n",
    "\n",
    "# Input data files are available in the read-only \"../input/\" directory\n",
    "# For example, running this (by clicking run or pressing Shift+Enter) will list all files under the input directory\n",
    "\n",
    "import os\n",
    "for dirname, _, filenames in os.walk('/kaggle/input'):\n",
    "    for filename in filenames:\n",
    "        print(os.path.join(dirname, filename))\n",
    "\n",
    "# You can write up to 20GB to the current directory (/kaggle/working/) that gets preserved as output when you create a version using \"Save & Run All\" \n",
    "# You can also write temporary files to /kaggle/temp/, but they won't be saved outside of the current session"
   ]
  },
  {
   "cell_type": "code",
   "execution_count": 19,
   "metadata": {
    "execution": {
     "iopub.execute_input": "2022-10-28T04:25:52.785438Z",
     "iopub.status.busy": "2022-10-28T04:25:52.784695Z",
     "iopub.status.idle": "2022-10-28T04:26:04.039267Z",
     "shell.execute_reply": "2022-10-28T04:26:04.038110Z",
     "shell.execute_reply.started": "2022-10-28T04:25:52.785410Z"
    }
   },
   "outputs": [],
   "source": [
    "#loading train data\n",
    "train_data = '/kaggle/input/classification-of-mnist-digits/train.csv'\n",
    "df = pd.read_csv(train_data)\n",
    "df = df.drop(['Unnamed: 1568'], axis = 1)\n",
    "X_train = df.values\n",
    "\n",
    "#loading test data\n",
    "test_data = '/kaggle/input/classification-of-mnist-digits/test.csv'\n",
    "df_test = pd.read_csv(test_data)\n",
    "df_test = df_test.drop(['Unnamed: 1568'], axis = 1)\n",
    "test_features = df_test.values\n",
    "\n",
    "#loading train labels\n",
    "train_result_data = '/kaggle/input/classification-of-mnist-digits/train_result.csv'\n",
    "df_train_result = pd.read_csv(train_result_data)\n",
    "y_train = df_train_result['Class'].to_numpy()"
   ]
  },
  {
   "cell_type": "code",
   "execution_count": 20,
   "metadata": {
    "execution": {
     "iopub.execute_input": "2022-10-28T04:26:04.042737Z",
     "iopub.status.busy": "2022-10-28T04:26:04.041710Z",
     "iopub.status.idle": "2022-10-28T04:26:06.205903Z",
     "shell.execute_reply": "2022-10-28T04:26:06.204812Z",
     "shell.execute_reply.started": "2022-10-28T04:26:04.042695Z"
    }
   },
   "outputs": [],
   "source": [
    "#Oversampling to fix the distribution issue\n",
    "oversample = RandomOverSampler(sampling_strategy='not majority')\n",
    "X_train, y_train = oversample.fit_resample(X_train, y_train)"
   ]
  },
  {
   "cell_type": "code",
   "execution_count": 21,
   "metadata": {
    "execution": {
     "iopub.execute_input": "2022-10-28T04:26:06.207691Z",
     "iopub.status.busy": "2022-10-28T04:26:06.207335Z",
     "iopub.status.idle": "2022-10-28T04:26:06.215465Z",
     "shell.execute_reply": "2022-10-28T04:26:06.214316Z",
     "shell.execute_reply.started": "2022-10-28T04:26:06.207657Z"
    }
   },
   "outputs": [],
   "source": [
    "#one hot encoding\n",
    "y_train = to_categorical(y_train)"
   ]
  },
  {
   "cell_type": "code",
   "execution_count": 22,
   "metadata": {
    "execution": {
     "iopub.execute_input": "2022-10-28T04:26:06.219336Z",
     "iopub.status.busy": "2022-10-28T04:26:06.218875Z",
     "iopub.status.idle": "2022-10-28T04:26:06.226440Z",
     "shell.execute_reply": "2022-10-28T04:26:06.225518Z",
     "shell.execute_reply.started": "2022-10-28T04:26:06.219299Z"
    }
   },
   "outputs": [],
   "source": [
    "#reshaping for convolutionnal layers\n",
    "X_train = X_train.reshape(-1, 28, 56, 1)"
   ]
  },
  {
   "cell_type": "code",
   "execution_count": 23,
   "metadata": {
    "execution": {
     "iopub.execute_input": "2022-10-28T04:26:06.228148Z",
     "iopub.status.busy": "2022-10-28T04:26:06.227752Z",
     "iopub.status.idle": "2022-10-28T04:26:06.242380Z",
     "shell.execute_reply": "2022-10-28T04:26:06.241505Z",
     "shell.execute_reply.started": "2022-10-28T04:26:06.228114Z"
    }
   },
   "outputs": [],
   "source": [
    "#function to build model that allows tunning on learning rate\n",
    "def build_model(hp):\n",
    "    model = Sequential()\n",
    "    model.add(Conv2D(64, kernel_size=(3, 3), input_shape=(28, 56, 1), activation='relu'))\n",
    "    model.add(BatchNormalization())\n",
    "    model.add(Conv2D(128, kernel_size=(3, 3), activation='relu'))\n",
    "    model.add(BatchNormalization())\n",
    "    model.add(MaxPooling2D())\n",
    "    model.add(Dropout(0.2))\n",
    "    model.add(Conv2D(128, kernel_size=(3, 3), activation='relu'))\n",
    "    model.add(BatchNormalization())\n",
    "    model.add(Conv2D(128, kernel_size=(3, 3), activation='relu'))\n",
    "    model.add(BatchNormalization())\n",
    "    model.add(MaxPooling2D())\n",
    "    model.add(Dropout(0.4))\n",
    "    model.add(Conv2D(128, kernel_size=(3, 3), activation='relu'))\n",
    "    model.add(BatchNormalization())\n",
    "    model.add(MaxPooling2D())\n",
    "    model.add(Dropout(0.6))\n",
    "    model.add(Flatten())\n",
    "    model.add(Dense(128, activation='relu'))\n",
    "    model.add(Dense(128, activation='relu'))\n",
    "    model.add(BatchNormalization())\n",
    "    model.add(Dropout(0.6))\n",
    "    model.add(Dense(128, activation='relu'))\n",
    "    model.add(Dense(128, activation='relu'))\n",
    "    model.add(Dropout(0.6))\n",
    "    model.add(Dense(19, activation='softmax', name='Output'))\n",
    "    \n",
    "    hp_learning_rate = hp.Choice('learning_rate', values = [1e-3,5e-4,1e-4])\n",
    "    opt = Adam(learning_rate = hp_learning_rate)\n",
    "    model.compile(optimizer=opt, loss='categorical_crossentropy', metrics=['accuracy'])\n",
    "    return model"
   ]
  },
  {
   "cell_type": "code",
   "execution_count": 24,
   "metadata": {
    "execution": {
     "iopub.execute_input": "2022-10-28T04:26:06.244274Z",
     "iopub.status.busy": "2022-10-28T04:26:06.243913Z",
     "iopub.status.idle": "2022-10-28T04:26:06.416390Z",
     "shell.execute_reply": "2022-10-28T04:26:06.415243Z",
     "shell.execute_reply.started": "2022-10-28T04:26:06.244220Z"
    }
   },
   "outputs": [],
   "source": [
    "#Tuner using Bayesian optimization\n",
    "tuner = BayesianOptimization(\n",
    "    build_model,\n",
    "    objective='val_accuracy',\n",
    "    max_trials=4\n",
    ")"
   ]
  },
  {
   "cell_type": "code",
   "execution_count": 25,
   "metadata": {
    "execution": {
     "iopub.execute_input": "2022-10-28T04:26:06.419928Z",
     "iopub.status.busy": "2022-10-28T04:26:06.417747Z",
     "iopub.status.idle": "2022-10-28T05:28:50.950780Z",
     "shell.execute_reply": "2022-10-28T05:28:50.949657Z",
     "shell.execute_reply.started": "2022-10-28T04:26:06.419898Z"
    }
   },
   "outputs": [
    {
     "name": "stdout",
     "output_type": "stream",
     "text": [
      "Trial 4 Complete [00h 16m 24s]\n",
      "val_accuracy: 0.9992883205413818\n",
      "\n",
      "Best val_accuracy So Far: 0.9997810125350952\n",
      "Total elapsed time: 01h 02m 44s\n"
     ]
    }
   ],
   "source": [
    "#Hyperparameter tunning\n",
    "tuner.search(X_train, y_train, epochs=30, validation_split=0.2)"
   ]
  },
  {
   "cell_type": "code",
   "execution_count": 26,
   "metadata": {
    "execution": {
     "iopub.execute_input": "2022-10-28T05:28:50.954274Z",
     "iopub.status.busy": "2022-10-28T05:28:50.953596Z",
     "iopub.status.idle": "2022-10-28T05:28:50.959249Z",
     "shell.execute_reply": "2022-10-28T05:28:50.958198Z",
     "shell.execute_reply.started": "2022-10-28T05:28:50.954221Z"
    }
   },
   "outputs": [],
   "source": [
    "hyps = tuner.get_best_hyperparameters(1)[0]"
   ]
  },
  {
   "cell_type": "code",
   "execution_count": 28,
   "metadata": {
    "execution": {
     "iopub.execute_input": "2022-10-28T05:37:10.683320Z",
     "iopub.status.busy": "2022-10-28T05:37:10.682924Z",
     "iopub.status.idle": "2022-10-28T05:52:35.050080Z",
     "shell.execute_reply": "2022-10-28T05:52:35.049025Z",
     "shell.execute_reply.started": "2022-10-28T05:37:10.683283Z"
    }
   },
   "outputs": [
    {
     "name": "stdout",
     "output_type": "stream",
     "text": [
      "Epoch 1/30\n",
      "2284/2284 [==============================] - 32s 13ms/step - loss: 2.5197 - accuracy: 0.1760 - val_loss: 2.8633 - val_accuracy: 0.0000e+00\n",
      "Epoch 2/30\n",
      "2284/2284 [==============================] - 30s 13ms/step - loss: 1.6510 - accuracy: 0.3803 - val_loss: 2.0375 - val_accuracy: 0.2049\n",
      "Epoch 3/30\n",
      "2284/2284 [==============================] - 30s 13ms/step - loss: 1.2047 - accuracy: 0.5347 - val_loss: 1.4161 - val_accuracy: 0.5380\n",
      "Epoch 4/30\n",
      "2284/2284 [==============================] - 30s 13ms/step - loss: 0.8983 - accuracy: 0.6608 - val_loss: 1.0011 - val_accuracy: 0.5693\n",
      "Epoch 5/30\n",
      "2284/2284 [==============================] - 30s 13ms/step - loss: 0.6615 - accuracy: 0.7622 - val_loss: 0.5755 - val_accuracy: 0.8959\n",
      "Epoch 6/30\n",
      "2284/2284 [==============================] - 30s 13ms/step - loss: 0.5037 - accuracy: 0.8278 - val_loss: 0.4099 - val_accuracy: 0.9401\n",
      "Epoch 7/30\n",
      "2284/2284 [==============================] - 29s 13ms/step - loss: 0.3978 - accuracy: 0.8719 - val_loss: 0.2928 - val_accuracy: 0.9641\n",
      "Epoch 8/30\n",
      "2284/2284 [==============================] - 30s 13ms/step - loss: 0.3132 - accuracy: 0.9046 - val_loss: 0.1693 - val_accuracy: 0.9779\n",
      "Epoch 9/30\n",
      "2284/2284 [==============================] - 29s 13ms/step - loss: 0.2587 - accuracy: 0.9237 - val_loss: 0.1151 - val_accuracy: 0.9808\n",
      "Epoch 10/30\n",
      "2284/2284 [==============================] - 30s 13ms/step - loss: 0.2230 - accuracy: 0.9385 - val_loss: 0.0608 - val_accuracy: 0.9866\n",
      "Epoch 11/30\n",
      "2284/2284 [==============================] - 30s 13ms/step - loss: 0.1834 - accuracy: 0.9507 - val_loss: 0.0391 - val_accuracy: 0.9910\n",
      "Epoch 12/30\n",
      "2284/2284 [==============================] - 30s 13ms/step - loss: 0.1563 - accuracy: 0.9587 - val_loss: 0.0276 - val_accuracy: 0.9936\n",
      "Epoch 13/30\n",
      "2284/2284 [==============================] - 30s 13ms/step - loss: 0.1436 - accuracy: 0.9642 - val_loss: 0.0362 - val_accuracy: 0.9925\n",
      "Epoch 14/30\n",
      "2284/2284 [==============================] - 30s 13ms/step - loss: 0.1238 - accuracy: 0.9695 - val_loss: 0.0255 - val_accuracy: 0.9958\n",
      "Epoch 15/30\n",
      "2284/2284 [==============================] - 30s 13ms/step - loss: 0.1072 - accuracy: 0.9742 - val_loss: 0.0660 - val_accuracy: 0.9892\n",
      "Epoch 16/30\n",
      "2284/2284 [==============================] - 30s 13ms/step - loss: 0.1066 - accuracy: 0.9752 - val_loss: 0.0218 - val_accuracy: 0.9949\n",
      "Epoch 17/30\n",
      "2284/2284 [==============================] - 30s 13ms/step - loss: 0.0922 - accuracy: 0.9784 - val_loss: 0.0289 - val_accuracy: 0.9962\n",
      "Epoch 18/30\n",
      "2284/2284 [==============================] - 30s 13ms/step - loss: 0.0881 - accuracy: 0.9791 - val_loss: 0.0155 - val_accuracy: 0.9974\n",
      "Epoch 19/30\n",
      "2284/2284 [==============================] - 30s 13ms/step - loss: 0.0816 - accuracy: 0.9815 - val_loss: 0.0058 - val_accuracy: 0.9988\n",
      "Epoch 20/30\n",
      "2284/2284 [==============================] - 30s 13ms/step - loss: 0.0757 - accuracy: 0.9832 - val_loss: 0.0040 - val_accuracy: 0.9985\n",
      "Epoch 21/30\n",
      "2284/2284 [==============================] - 30s 13ms/step - loss: 0.0718 - accuracy: 0.9845 - val_loss: 0.0120 - val_accuracy: 0.9981\n",
      "Epoch 22/30\n",
      "2284/2284 [==============================] - 30s 13ms/step - loss: 0.0677 - accuracy: 0.9853 - val_loss: 0.0050 - val_accuracy: 0.9989\n",
      "Epoch 23/30\n",
      "2284/2284 [==============================] - 30s 13ms/step - loss: 0.0657 - accuracy: 0.9854 - val_loss: 0.0054 - val_accuracy: 0.9987\n",
      "Epoch 24/30\n",
      "2284/2284 [==============================] - 30s 13ms/step - loss: 0.0585 - accuracy: 0.9874 - val_loss: 0.0165 - val_accuracy: 0.9980\n",
      "Epoch 25/30\n",
      "2284/2284 [==============================] - 30s 13ms/step - loss: 0.0616 - accuracy: 0.9872 - val_loss: 0.0028 - val_accuracy: 0.9988\n",
      "Epoch 26/30\n",
      "2284/2284 [==============================] - 29s 13ms/step - loss: 0.0586 - accuracy: 0.9884 - val_loss: 0.0103 - val_accuracy: 0.9982\n",
      "Epoch 27/30\n",
      "2284/2284 [==============================] - 30s 13ms/step - loss: 0.0534 - accuracy: 0.9881 - val_loss: 0.0362 - val_accuracy: 0.9964\n",
      "Epoch 28/30\n",
      "2284/2284 [==============================] - 30s 13ms/step - loss: 0.0474 - accuracy: 0.9899 - val_loss: 0.0093 - val_accuracy: 0.9992\n",
      "Epoch 29/30\n",
      "2284/2284 [==============================] - 29s 13ms/step - loss: 0.0486 - accuracy: 0.9894 - val_loss: 0.0092 - val_accuracy: 0.9985\n",
      "Epoch 30/30\n",
      "2284/2284 [==============================] - 30s 13ms/step - loss: 0.0435 - accuracy: 0.9902 - val_loss: 0.0043 - val_accuracy: 0.9988\n"
     ]
    }
   ],
   "source": [
    "#Use the best found hyperparameters to train and predict\n",
    "model = tuner.hypermodel.build(hyps)\n",
    "history = model.fit(X_train, y_train, epochs=30, validation_split=0.2)"
   ]
  },
  {
   "cell_type": "code",
   "execution_count": 30,
   "metadata": {
    "execution": {
     "iopub.execute_input": "2022-10-28T05:52:36.605441Z",
     "iopub.status.busy": "2022-10-28T05:52:36.605031Z",
     "iopub.status.idle": "2022-10-28T05:52:36.925059Z",
     "shell.execute_reply": "2022-10-28T05:52:36.924125Z",
     "shell.execute_reply.started": "2022-10-28T05:52:36.605405Z"
    }
   },
   "outputs": [
    {
     "data": {
      "image/png": "[encoded data removed]",
      "text/plain": [
       "<Figure size 432x288 with 1 Axes>"
      ]
     },
     "metadata": {
      "needs_background": "light"
     },
     "output_type": "display_data"
    }
   ],
   "source": [
    "import matplotlib.pyplot as plt\n",
    "\n",
    "plt.title('Epoch-Accuracy Graph')\n",
    "plt.xlabel = 'Epochs'\n",
    "plt.ylabel = 'Loss'\n",
    "plt.plot(range(1, len(history.epoch) + 1), history.history['accuracy'])\n",
    "plt.plot(range(1, len(history.epoch) + 1), history.history['val_accuracy'])\n",
    "plt.legend(['accuracy', 'val_accuracy'])\n",
    "plt.show()\n"
   ]
  },
  {
   "cell_type": "code",
   "execution_count": 29,
   "metadata": {
    "execution": {
     "iopub.execute_input": "2022-10-28T05:52:35.052915Z",
     "iopub.status.busy": "2022-10-28T05:52:35.052520Z",
     "iopub.status.idle": "2022-10-28T05:52:36.603407Z",
     "shell.execute_reply": "2022-10-28T05:52:36.602433Z",
     "shell.execute_reply.started": "2022-10-28T05:52:35.052878Z"
    }
   },
   "outputs": [],
   "source": [
    "test_features = test_features.reshape(-1, 28, 56, 1)\n",
    "pred = model.predict(test_features)\n",
    "pred_class = np.argmax(pred, axis = 1)\n",
    "output = pd.DataFrame({'Index': np.arange(test_features.shape[0]), 'Class': pred_class})\n",
    "output.to_csv('submission.csv', index=False)"
   ]
  }
 ],
 "metadata": {
  "kernelspec": {
   "display_name": "Python 3 (ipykernel)",
   "language": "python",
   "name": "python3"
  },
  "language_info": {
   "codemirror_mode": {
    "name": "ipython",
    "version": 3
   },
   "file_extension": ".py",
   "mimetype": "text/x-python",
   "name": "python",
   "nbconvert_exporter": "python",
   "pygments_lexer": "ipython3",
   "version": "3.7.3"
  }
 },
 "nbformat": 4,
 "nbformat_minor": 4
}
