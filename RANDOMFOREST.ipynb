{
 "cells": [
  {
   "cell_type": "code",
   "execution_count": 1,
   "metadata": {
    "_cell_guid": "b1076dfc-b9ad-4769-8c92-a6c4dae69d19",
    "_uuid": "8f2839f25d086af736a60e9eeb907d3b93b6e0e5",
    "execution": {
     "iopub.execute_input": "2022-11-02T02:14:49.609694Z",
     "iopub.status.busy": "2022-11-02T02:14:49.609127Z",
     "iopub.status.idle": "2022-11-02T02:14:51.528914Z",
     "shell.execute_reply": "2022-11-02T02:14:51.527831Z",
     "shell.execute_reply.started": "2022-11-02T02:14:49.609560Z"
    }
   },
   "outputs": [
    {
     "name": "stdout",
     "output_type": "stream",
     "text": [
      "/kaggle/input/classification-of-mnist-digits/train_result.csv\n",
      "/kaggle/input/classification-of-mnist-digits/train.csv\n",
      "/kaggle/input/classification-of-mnist-digits/test.csv\n"
     ]
    }
   ],
   "source": [
    "#MNIST pair of digits recognition using RandomForest model\n",
    "#Yi Cong Li (20122756)\n",
    "#this code is built using inpirations from:\n",
    "#https://scikit-learn.org/stable/modules/generated/sklearn.ensemble.RandomForestClassifier.html\n",
    "#https://scikit-learn.org/stable/modules/generated/sklearn.ensemble.RandomForestClassifier.html\n",
    "\n",
    "#please make sure to run this code in default kaggle notebook environnment of competition\n",
    "\n",
    "# This Python 3 environment comes with many helpful analytics libraries installed\n",
    "# It is defined by the kaggle/python Docker image: https://github.com/kaggle/docker-python\n",
    "# For example, here's several helpful packages to load\n",
    "import sklearn\n",
    "from sklearn.metrics import confusion_matrix\n",
    "from sklearn.metrics import accuracy_score\n",
    "from sklearn.ensemble import RandomForestClassifier\n",
    "from imblearn.over_sampling import RandomOverSampler\n",
    "\n",
    "import numpy as np # linear algebra\n",
    "import pandas as pd # data processing, CSV file I/O (e.g. pd.read_csv)\n",
    "import seaborn as sns\n",
    "import collections\n",
    "import matplotlib.pyplot as plt\n",
    "\n",
    "# Input data files are available in the read-only \"../input/\" directory\n",
    "# For example, running this (by clicking run or pressing Shift+Enter) will list all files under the input directory\n",
    "\n",
    "import os\n",
    "for dirname, _, filenames in os.walk('/kaggle/input'):\n",
    "    for filename in filenames:\n",
    "        print(os.path.join(dirname, filename))\n",
    "\n",
    "# You can write up to 20GB to the current directory (/kaggle/working/) that gets preserved as output when you create a version using \"Save & Run All\" \n",
    "# You can also write temporary files to /kaggle/temp/, but they won't be saved outside of the current session"
   ]
  },
  {
   "cell_type": "code",
   "execution_count": 2,
   "metadata": {
    "execution": {
     "iopub.execute_input": "2022-11-02T02:14:51.531402Z",
     "iopub.status.busy": "2022-11-02T02:14:51.530798Z",
     "iopub.status.idle": "2022-11-02T02:15:28.159620Z",
     "shell.execute_reply": "2022-11-02T02:15:28.158345Z",
     "shell.execute_reply.started": "2022-11-02T02:14:51.531367Z"
    }
   },
   "outputs": [],
   "source": [
    "#loading train/val data\n",
    "train_data_path = '/kaggle/input/classification-of-mnist-digits/train.csv'\n",
    "df = pd.read_csv(train_data_path)\n",
    "df = df.drop(['Unnamed: 1568'], axis = 1)\n",
    "X_data = df.values.astype(np.float32)\n",
    "\n",
    "\n",
    "#loading test data\n",
    "test_data_path = '/kaggle/input/classification-of-mnist-digits/test.csv'\n",
    "df_test = pd.read_csv(test_data_path)\n",
    "df_test = df_test.drop(['Unnamed: 1568'], axis = 1)\n",
    "X_test = df_test.values.astype(np.float32)\n",
    "\n",
    "#loading train/val labels\n",
    "train_labels_path = '/kaggle/input/classification-of-mnist-digits/train_result.csv'\n",
    "df_train_labels = pd.read_csv(train_labels_path)\n",
    "y_data = df_train_labels['Class'].to_numpy()\n",
    "\n",
    "#randomly split train set and validation set\n",
    "np.random.seed(6390)\n",
    "#80% train set, 20% validation set\n",
    "len_train = round(0.80*X_data.shape[0])\n",
    "idx = np.arange(X_data.shape[0])\n",
    "np.random.shuffle(idx)\n",
    "train_idx = idx[:len_train]\n",
    "val_idx = idx[len_train:]\n",
    "X_train = X_data[train_idx] \n",
    "X_val = X_data[val_idx]\n",
    "y_train = y_data[train_idx]\n",
    "y_val = y_data[val_idx]"
   ]
  },
  {
   "cell_type": "code",
   "execution_count": 3,
   "metadata": {
    "execution": {
     "iopub.execute_input": "2022-11-02T02:15:28.161708Z",
     "iopub.status.busy": "2022-11-02T02:15:28.161294Z",
     "iopub.status.idle": "2022-11-02T02:15:28.856293Z",
     "shell.execute_reply": "2022-11-02T02:15:28.854930Z",
     "shell.execute_reply.started": "2022-11-02T02:15:28.161652Z"
    }
   },
   "outputs": [],
   "source": [
    "#Oversampling to fix the distribution issue\n",
    "oversample = RandomOverSampler(sampling_strategy='not majority')\n",
    "X_train, y_train = oversample.fit_resample(X_train, y_train)"
   ]
  },
  {
   "cell_type": "code",
   "execution_count": 4,
   "metadata": {
    "execution": {
     "iopub.execute_input": "2022-11-02T02:15:28.859399Z",
     "iopub.status.busy": "2022-11-02T02:15:28.858983Z",
     "iopub.status.idle": "2022-11-02T02:29:28.911128Z",
     "shell.execute_reply": "2022-11-02T02:29:28.909776Z",
     "shell.execute_reply.started": "2022-11-02T02:15:28.859359Z"
    }
   },
   "outputs": [
    {
     "data": {
      "text/plain": [
       "RandomForestClassifier(max_depth=100, n_estimators=500)"
      ]
     },
     "execution_count": 4,
     "metadata": {},
     "output_type": "execute_result"
    }
   ],
   "source": [
    "#max_depth, n_estimators chosen using exhaustive trials\n",
    "model = RandomForestClassifier(n_estimators=500, max_depth=100)\n",
    "model.fit(X_train,y_train)"
   ]
  },
  {
   "cell_type": "code",
   "execution_count": 5,
   "metadata": {
    "execution": {
     "iopub.execute_input": "2022-11-02T02:29:28.912832Z",
     "iopub.status.busy": "2022-11-02T02:29:28.912424Z",
     "iopub.status.idle": "2022-11-02T02:29:32.899924Z",
     "shell.execute_reply": "2022-11-02T02:29:32.898578Z",
     "shell.execute_reply.started": "2022-11-02T02:29:28.912795Z"
    }
   },
   "outputs": [
    {
     "name": "stdout",
     "output_type": "stream",
     "text": [
      "Confusion Matrix: \n",
      "[[105   0   1   0   0   1   3   0   1   1   0   0   0   0   0   0   0   0\n",
      "    0]\n",
      " [  1 177   2   1   0   2   0   4   1   0   2   0   0   0   0   0   0   0\n",
      "    0]\n",
      " [  2   0 302   1   1   0   3   4   4   0   2   0   0   0   0   0   0   0\n",
      "    0]\n",
      " [  0   4   3 398   5  11   1   8  12   8   1   3   1   0   0   0   0   0\n",
      "    0]\n",
      " [  1   3   7  14 395   7  14   3   5  36   7   3   2   2   1   0   0   0\n",
      "    0]\n",
      " [  5   6   1  17  24 481   7  11   6   8  25  21   1   0   0   0   0   0\n",
      "    0]\n",
      " [  3  10   4   5  24  15 558   6  11   7  16  42  20   2   2   0   0   0\n",
      "    0]\n",
      " [  5   3   8   7   3  41  31 561  18  22   6  16  42   8   3   2   0   0\n",
      "    0]\n",
      " [  1   6  10  19  10  10  38  28 719  20  19   9  20  42   9   3   2   0\n",
      "    0]\n",
      " [  2   1  13   9  15  13  12  29  19 721  21  34  23  24  23  13   5   1\n",
      "    0]\n",
      " [  0   1   6  16  14  21  15  10  49  26 627  31  50   4   9  21  12   2\n",
      "    0]\n",
      " [  0   0   2   3   6  11  24  11  14  40  25 539  25  21   6  12  21  11\n",
      "    0]\n",
      " [  0   0   0   2   1   5  12  18   8   6  25  14 519  20   8   3  15  15\n",
      "    1]\n",
      " [  0   0   0   0   2   3  14   9  18  14   8  32  16 441  10  14   4   4\n",
      "    6]\n",
      " [  0   0   0   0   0   1   1  15  25  16  17   9  37   9 298   7  13   1\n",
      "    2]\n",
      " [  0   0   0   0   0   0   2   3  11  10  22   8   9  21   6 294  11   6\n",
      "    0]\n",
      " [  0   0   0   0   0   0   0   0   3  13   8  20   6   6   8   3 220   5\n",
      "    3]\n",
      " [  0   0   0   0   0   0   0   0   2   2   4   4  32   4   1  14   2 110\n",
      "    2]\n",
      " [  0   0   0   0   0   0   0   0   0   2   1   0   2  10   0   0  11   0\n",
      "   63]]\n",
      "validation accracy: 0.7528\n"
     ]
    }
   ],
   "source": [
    "pred_val = model.predict(X_val)\n",
    "print (\"Confusion Matrix: \")\n",
    "print(confusion_matrix(y_val, pred_val))\n",
    "val_accuracy = (y_val == pred_val).sum() / len(y_val)\n",
    "print(\"validation accracy: \" + str(val_accuracy))"
   ]
  },
  {
   "cell_type": "code",
   "execution_count": 6,
   "metadata": {
    "execution": {
     "iopub.execute_input": "2022-11-02T02:29:32.904009Z",
     "iopub.status.busy": "2022-11-02T02:29:32.902742Z",
     "iopub.status.idle": "2022-11-02T02:29:37.264635Z",
     "shell.execute_reply": "2022-11-02T02:29:37.263420Z",
     "shell.execute_reply.started": "2022-11-02T02:29:32.903965Z"
    }
   },
   "outputs": [],
   "source": [
    "pred = model.predict(X_test)\n",
    "output = pd.DataFrame({'Index': np.arange(X_test.shape[0]), 'Class': pred})\n",
    "output.to_csv('submission.csv', index=False)"
   ]
  }
 ],
 "metadata": {
  "kernelspec": {
   "display_name": "Python 3 (ipykernel)",
   "language": "python",
   "name": "python3"
  },
  "language_info": {
   "codemirror_mode": {
    "name": "ipython",
    "version": 3
   },
   "file_extension": ".py",
   "mimetype": "text/x-python",
   "name": "python",
   "nbconvert_exporter": "python",
   "pygments_lexer": "ipython3",
   "version": "3.7.3"
  }
 },
 "nbformat": 4,
 "nbformat_minor": 4
}
